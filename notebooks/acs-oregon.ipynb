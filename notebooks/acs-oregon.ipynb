{
 "cells": [
  {
   "cell_type": "code",
   "execution_count": 15,
   "metadata": {
    "collapsed": true
   },
   "outputs": [],
   "source": [
    "import requests, time, pandas as pd\n",
    "import concurrent.futures, threading"
   ]
  },
  {
   "cell_type": "code",
   "execution_count": 16,
   "metadata": {
    "collapsed": true
   },
   "outputs": [],
   "source": [
    "thread_local = threading.local()"
   ]
  },
  {
   "cell_type": "code",
   "execution_count": 3,
   "metadata": {
    "collapsed": true
   },
   "outputs": [],
   "source": [
    "def get_session():\n",
    "    if not hasattr(thread_local, \"session\"):\n",
    "        thread_local.session = requests.Session()\n",
    "    return thread_local.session"
   ]
  },
  {
   "cell_type": "code",
   "execution_count": 4,
   "metadata": {
    "collapsed": true
   },
   "outputs": [],
   "source": [
    "def download_df(year):\n",
    "    base_url = \"/\".join([HOST, str(year), dataset])\n",
    "    r = requests.get(base_url, params=predicates)\n",
    "    df = pd.DataFrame(columns=r.json()[0], data=r.json()[1:])\n",
    "    df[\"year\"] = year\n",
    "    return df"
   ]
  },
  {
   "cell_type": "code",
   "execution_count": 5,
   "metadata": {
    "collapsed": true
   },
   "outputs": [],
   "source": [
    "def download_all_dfs(years):\n",
    "    with concurrent.futures.ThreadPoolExecutor(max_workers=5) as executor:\n",
    "        dfs = executor.map(download_df, years)\n",
    "    return list(dfs)"
   ]
  },
  {
   "cell_type": "code",
   "execution_count": 9,
   "metadata": {
    "collapsed": true
   },
   "outputs": [],
   "source": [
    "HOST, dataset = \"https://api.census.gov/data\", \"acs/acs1\"\n",
    "get_vars = [\"B25045_\" + str(i + 1).zfill(3) + \"E\" for i in range(19)]\n",
    "get_vars = [\"NAME\"] + get_vars"
   ]
  },
  {
   "cell_type": "code",
   "execution_count": 10,
   "metadata": {
    "collapsed": true
   },
   "outputs": [],
   "source": [
    "predicates = {}\n",
    "predicates[\"get\"] = \",\".join(get_vars)\n",
    "predicates[\"for\"] = \"state:41\""
   ]
  },
  {
   "cell_type": "code",
   "execution_count": 12,
   "metadata": {},
   "outputs": [
    {
     "name": "stdout",
     "output_type": "stream",
     "text": [
      "Duration: 3.00396990776062 seconds\n"
     ]
    }
   ],
   "source": [
    "start_time = time.time()\n",
    "years = range(2012, 2018)\n",
    "dfs = download_all_dfs(years)\n",
    "duration = time.time() - start_time\n",
    "print(f\"Duration: {duration} seconds\")"
   ]
  },
  {
   "cell_type": "code",
   "execution_count": 14,
   "metadata": {},
   "outputs": [
    {
     "data": {
      "text/html": [
       "<div>\n",
       "<style>\n",
       "    .dataframe thead tr:only-child th {\n",
       "        text-align: right;\n",
       "    }\n",
       "\n",
       "    .dataframe thead th {\n",
       "        text-align: left;\n",
       "    }\n",
       "\n",
       "    .dataframe tbody tr th {\n",
       "        vertical-align: top;\n",
       "    }\n",
       "</style>\n",
       "<table border=\"1\" class=\"dataframe\">\n",
       "  <thead>\n",
       "    <tr style=\"text-align: right;\">\n",
       "      <th></th>\n",
       "      <th>NAME</th>\n",
       "      <th>B25045_001E</th>\n",
       "      <th>B25045_002E</th>\n",
       "      <th>B25045_003E</th>\n",
       "      <th>B25045_004E</th>\n",
       "      <th>B25045_005E</th>\n",
       "      <th>B25045_006E</th>\n",
       "      <th>B25045_007E</th>\n",
       "      <th>B25045_008E</th>\n",
       "      <th>B25045_009E</th>\n",
       "      <th>...</th>\n",
       "      <th>B25045_012E</th>\n",
       "      <th>B25045_013E</th>\n",
       "      <th>B25045_014E</th>\n",
       "      <th>B25045_015E</th>\n",
       "      <th>B25045_016E</th>\n",
       "      <th>B25045_017E</th>\n",
       "      <th>B25045_018E</th>\n",
       "      <th>B25045_019E</th>\n",
       "      <th>state</th>\n",
       "      <th>year</th>\n",
       "    </tr>\n",
       "  </thead>\n",
       "  <tbody>\n",
       "    <tr>\n",
       "      <th>0</th>\n",
       "      <td>Oregon</td>\n",
       "      <td>1516957</td>\n",
       "      <td>933775</td>\n",
       "      <td>24706</td>\n",
       "      <td>1616</td>\n",
       "      <td>10168</td>\n",
       "      <td>12922</td>\n",
       "      <td>909069</td>\n",
       "      <td>81070</td>\n",
       "      <td>560911</td>\n",
       "      <td>...</td>\n",
       "      <td>100722</td>\n",
       "      <td>29609</td>\n",
       "      <td>40339</td>\n",
       "      <td>30774</td>\n",
       "      <td>482460</td>\n",
       "      <td>196749</td>\n",
       "      <td>232007</td>\n",
       "      <td>53704</td>\n",
       "      <td>41</td>\n",
       "      <td>2012</td>\n",
       "    </tr>\n",
       "    <tr>\n",
       "      <th>0</th>\n",
       "      <td>Oregon</td>\n",
       "      <td>1523799</td>\n",
       "      <td>926930</td>\n",
       "      <td>21385</td>\n",
       "      <td>1169</td>\n",
       "      <td>9729</td>\n",
       "      <td>10487</td>\n",
       "      <td>905545</td>\n",
       "      <td>70865</td>\n",
       "      <td>556199</td>\n",
       "      <td>...</td>\n",
       "      <td>100596</td>\n",
       "      <td>26475</td>\n",
       "      <td>41074</td>\n",
       "      <td>33047</td>\n",
       "      <td>496273</td>\n",
       "      <td>195479</td>\n",
       "      <td>249400</td>\n",
       "      <td>51394</td>\n",
       "      <td>41</td>\n",
       "      <td>2013</td>\n",
       "    </tr>\n",
       "    <tr>\n",
       "      <th>0</th>\n",
       "      <td>Oregon</td>\n",
       "      <td>1535511</td>\n",
       "      <td>932392</td>\n",
       "      <td>22969</td>\n",
       "      <td>1261</td>\n",
       "      <td>9166</td>\n",
       "      <td>12542</td>\n",
       "      <td>909423</td>\n",
       "      <td>75489</td>\n",
       "      <td>547692</td>\n",
       "      <td>...</td>\n",
       "      <td>97641</td>\n",
       "      <td>25282</td>\n",
       "      <td>38944</td>\n",
       "      <td>33415</td>\n",
       "      <td>505478</td>\n",
       "      <td>197304</td>\n",
       "      <td>247609</td>\n",
       "      <td>60565</td>\n",
       "      <td>41</td>\n",
       "      <td>2014</td>\n",
       "    </tr>\n",
       "    <tr>\n",
       "      <th>0</th>\n",
       "      <td>Oregon</td>\n",
       "      <td>1553205</td>\n",
       "      <td>948891</td>\n",
       "      <td>22884</td>\n",
       "      <td>1238</td>\n",
       "      <td>11026</td>\n",
       "      <td>10620</td>\n",
       "      <td>926007</td>\n",
       "      <td>81009</td>\n",
       "      <td>541331</td>\n",
       "      <td>...</td>\n",
       "      <td>104229</td>\n",
       "      <td>26261</td>\n",
       "      <td>47188</td>\n",
       "      <td>30780</td>\n",
       "      <td>500085</td>\n",
       "      <td>185900</td>\n",
       "      <td>251830</td>\n",
       "      <td>62355</td>\n",
       "      <td>41</td>\n",
       "      <td>2015</td>\n",
       "    </tr>\n",
       "    <tr>\n",
       "      <th>0</th>\n",
       "      <td>Oregon</td>\n",
       "      <td>1571678</td>\n",
       "      <td>969579</td>\n",
       "      <td>22501</td>\n",
       "      <td>1712</td>\n",
       "      <td>7635</td>\n",
       "      <td>13154</td>\n",
       "      <td>947078</td>\n",
       "      <td>85622</td>\n",
       "      <td>553387</td>\n",
       "      <td>...</td>\n",
       "      <td>93257</td>\n",
       "      <td>22436</td>\n",
       "      <td>34407</td>\n",
       "      <td>36414</td>\n",
       "      <td>508842</td>\n",
       "      <td>191455</td>\n",
       "      <td>250413</td>\n",
       "      <td>66974</td>\n",
       "      <td>41</td>\n",
       "      <td>2016</td>\n",
       "    </tr>\n",
       "    <tr>\n",
       "      <th>0</th>\n",
       "      <td>Oregon</td>\n",
       "      <td>1603635</td>\n",
       "      <td>1007015</td>\n",
       "      <td>22530</td>\n",
       "      <td>1383</td>\n",
       "      <td>9594</td>\n",
       "      <td>11553</td>\n",
       "      <td>984485</td>\n",
       "      <td>95057</td>\n",
       "      <td>559321</td>\n",
       "      <td>...</td>\n",
       "      <td>93586</td>\n",
       "      <td>24106</td>\n",
       "      <td>38751</td>\n",
       "      <td>30729</td>\n",
       "      <td>503034</td>\n",
       "      <td>186749</td>\n",
       "      <td>253297</td>\n",
       "      <td>62988</td>\n",
       "      <td>41</td>\n",
       "      <td>2017</td>\n",
       "    </tr>\n",
       "  </tbody>\n",
       "</table>\n",
       "<p>6 rows × 22 columns</p>\n",
       "</div>"
      ],
      "text/plain": [
       "     NAME B25045_001E B25045_002E B25045_003E B25045_004E B25045_005E  \\\n",
       "0  Oregon     1516957      933775       24706        1616       10168   \n",
       "0  Oregon     1523799      926930       21385        1169        9729   \n",
       "0  Oregon     1535511      932392       22969        1261        9166   \n",
       "0  Oregon     1553205      948891       22884        1238       11026   \n",
       "0  Oregon     1571678      969579       22501        1712        7635   \n",
       "0  Oregon     1603635     1007015       22530        1383        9594   \n",
       "\n",
       "  B25045_006E B25045_007E B25045_008E B25045_009E  ...  B25045_012E  \\\n",
       "0       12922      909069       81070      560911  ...       100722   \n",
       "0       10487      905545       70865      556199  ...       100596   \n",
       "0       12542      909423       75489      547692  ...        97641   \n",
       "0       10620      926007       81009      541331  ...       104229   \n",
       "0       13154      947078       85622      553387  ...        93257   \n",
       "0       11553      984485       95057      559321  ...        93586   \n",
       "\n",
       "  B25045_013E B25045_014E B25045_015E B25045_016E B25045_017E B25045_018E  \\\n",
       "0       29609       40339       30774      482460      196749      232007   \n",
       "0       26475       41074       33047      496273      195479      249400   \n",
       "0       25282       38944       33415      505478      197304      247609   \n",
       "0       26261       47188       30780      500085      185900      251830   \n",
       "0       22436       34407       36414      508842      191455      250413   \n",
       "0       24106       38751       30729      503034      186749      253297   \n",
       "\n",
       "  B25045_019E state  year  \n",
       "0       53704    41  2012  \n",
       "0       51394    41  2013  \n",
       "0       60565    41  2014  \n",
       "0       62355    41  2015  \n",
       "0       66974    41  2016  \n",
       "0       62988    41  2017  \n",
       "\n",
       "[6 rows x 22 columns]"
      ]
     },
     "execution_count": 14,
     "metadata": {},
     "output_type": "execute_result"
    }
   ],
   "source": [
    "pd.concat(dfs)"
   ]
  },
  {
   "cell_type": "code",
   "execution_count": null,
   "metadata": {
    "collapsed": true
   },
   "outputs": [],
   "source": []
  }
 ],
 "metadata": {
  "kernelspec": {
   "display_name": "Python 3",
   "language": "python",
   "name": "python3"
  },
  "language_info": {
   "codemirror_mode": {
    "name": "ipython",
    "version": 3
   },
   "file_extension": ".py",
   "mimetype": "text/x-python",
   "name": "python",
   "nbconvert_exporter": "python",
   "pygments_lexer": "ipython3",
   "version": "3.6.3"
  }
 },
 "nbformat": 4,
 "nbformat_minor": 2
}
