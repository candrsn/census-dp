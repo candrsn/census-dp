{
 "cells": [
  {
   "cell_type": "markdown",
   "metadata": {},
   "source": [
    "### Privacy preserving logistic regression\n",
    "#### Unweighted, discrete"
   ]
  },
  {
   "cell_type": "markdown",
   "metadata": {
    "collapsed": true
   },
   "source": [
    "There are three main methods to compute a differentially private, unweighted, discrete logistic regression.\n",
    "1. reframe discrete predictors as a table of values, add laplace noise\n",
    "2. randomized response\n",
    "3. perturbed optimization\n",
    "\n",
    "In this notebook, we will explore each method and evaluate their privacy/accuracy tradeoff performance."
   ]
  },
  {
   "cell_type": "code",
   "execution_count": 1,
   "metadata": {},
   "outputs": [
    {
     "name": "stderr",
     "output_type": "stream",
     "text": [
      "C:\\Anaconda\\lib\\site-packages\\statsmodels\\compat\\pandas.py:56: FutureWarning: The pandas.core.datetools module is deprecated and will be removed in a future version. Please use the pandas.tseries module instead.\n",
      "  from pandas.core import datetools\n"
     ]
    }
   ],
   "source": [
    "import matplotlib.pyplot as plt\n",
    "import pandas as pd\n",
    "import numpy as np\n",
    "import requests, zipfile, io\n",
    "import sklearn\n",
    "import random\n",
    "from typing import Union\n",
    "import statsmodels.api as sm"
   ]
  },
  {
   "cell_type": "markdown",
   "metadata": {},
   "source": [
    "## Base Logistic Regression"
   ]
  },
  {
   "cell_type": "code",
   "execution_count": 2,
   "metadata": {
    "collapsed": true
   },
   "outputs": [],
   "source": [
    "r = requests.get('https://www2.census.gov/programs-surveys/acs/data/pums/2017/5-Year/csv_ppa.zip')\n",
    "z = zipfile.ZipFile(io.BytesIO(r.content))\n",
    "z.extract('psam_p42.csv')\n",
    "pa = pd.read_csv(\"psam_p42.csv\")"
   ]
  },
  {
   "cell_type": "code",
   "execution_count": 4,
   "metadata": {},
   "outputs": [
    {
     "data": {
      "text/html": [
       "<div>\n",
       "<style>\n",
       "    .dataframe thead tr:only-child th {\n",
       "        text-align: right;\n",
       "    }\n",
       "\n",
       "    .dataframe thead th {\n",
       "        text-align: left;\n",
       "    }\n",
       "\n",
       "    .dataframe tbody tr th {\n",
       "        vertical-align: top;\n",
       "    }\n",
       "</style>\n",
       "<table border=\"1\" class=\"dataframe\">\n",
       "  <thead>\n",
       "    <tr style=\"text-align: right;\">\n",
       "      <th></th>\n",
       "      <th>PUMA</th>\n",
       "      <th>RAC1P</th>\n",
       "      <th>PINCP</th>\n",
       "      <th>AGEP</th>\n",
       "      <th>SCHL</th>\n",
       "    </tr>\n",
       "  </thead>\n",
       "  <tbody>\n",
       "    <tr>\n",
       "      <th>436</th>\n",
       "      <td>1300</td>\n",
       "      <td>1</td>\n",
       "      <td>65000.0</td>\n",
       "      <td>56</td>\n",
       "      <td>22.0</td>\n",
       "    </tr>\n",
       "    <tr>\n",
       "      <th>437</th>\n",
       "      <td>1300</td>\n",
       "      <td>1</td>\n",
       "      <td>15000.0</td>\n",
       "      <td>54</td>\n",
       "      <td>20.0</td>\n",
       "    </tr>\n",
       "    <tr>\n",
       "      <th>590</th>\n",
       "      <td>1300</td>\n",
       "      <td>1</td>\n",
       "      <td>62000.0</td>\n",
       "      <td>57</td>\n",
       "      <td>16.0</td>\n",
       "    </tr>\n",
       "    <tr>\n",
       "      <th>591</th>\n",
       "      <td>1300</td>\n",
       "      <td>1</td>\n",
       "      <td>44500.0</td>\n",
       "      <td>58</td>\n",
       "      <td>16.0</td>\n",
       "    </tr>\n",
       "    <tr>\n",
       "      <th>652</th>\n",
       "      <td>1300</td>\n",
       "      <td>1</td>\n",
       "      <td>20000.0</td>\n",
       "      <td>46</td>\n",
       "      <td>15.0</td>\n",
       "    </tr>\n",
       "  </tbody>\n",
       "</table>\n",
       "</div>"
      ],
      "text/plain": [
       "     PUMA  RAC1P    PINCP  AGEP  SCHL\n",
       "436  1300      1  65000.0    56  22.0\n",
       "437  1300      1  15000.0    54  20.0\n",
       "590  1300      1  62000.0    57  16.0\n",
       "591  1300      1  44500.0    58  16.0\n",
       "652  1300      1  20000.0    46  15.0"
      ]
     },
     "execution_count": 4,
     "metadata": {},
     "output_type": "execute_result"
    }
   ],
   "source": [
    "#getting data\n",
    "new_pa = pa.query('PUMA==1300 and AGEP>=18 and AGEP<=65').filter(items=['PUMA','RAC1P','PINCP','AGEP','SCHL'])\n",
    "new_pa.head()\n",
    "#TODO clean data"
   ]
  },
  {
   "cell_type": "code",
   "execution_count": 5,
   "metadata": {},
   "outputs": [],
   "source": [
    "def labeler (income):\n",
    "    median = new_pa['PINCP'].median()\n",
    "    if income > median:\n",
    "        return 1\n",
    "    elif income < median:\n",
    "        return 0\n",
    "    else:\n",
    "        return random.randint(0,1)"
   ]
  },
  {
   "cell_type": "code",
   "execution_count": 6,
   "metadata": {},
   "outputs": [],
   "source": [
    "#feature selection \n",
    "#TODO: change Y value to rent or mortage\n",
    "X = new_pa[['RAC1P','AGEP','SCHL']]\n",
    "y = new_pa['PINCP'].apply(labeler)"
   ]
  },
  {
   "cell_type": "code",
   "execution_count": 7,
   "metadata": {},
   "outputs": [
    {
     "name": "stdout",
     "output_type": "stream",
     "text": [
      "Optimization terminated successfully.\n",
      "         Current function value: 0.681380\n",
      "         Iterations 6\n",
      "                         Results: Logit\n",
      "=================================================================\n",
      "Model:              Logit            Pseudo R-squared: 0.017     \n",
      "Dependent Variable: PINCP            AIC:              12029.6338\n",
      "Date:               2019-08-06 13:43 BIC:              12050.8891\n",
      "No. Observations:   8823             Log-Likelihood:   -6011.8   \n",
      "Df Model:           2                LL-Null:          -6115.6   \n",
      "Df Residuals:       8820             LLR p-value:      8.7378e-46\n",
      "Converged:          1.0000           Scale:            1.0000    \n",
      "No. Iterations:     6.0000                                       \n",
      "-------------------------------------------------------------------\n",
      "           Coef.    Std.Err.      z      P>|z|     [0.025    0.975]\n",
      "-------------------------------------------------------------------\n",
      "RAC1P     -0.3625     0.0390   -9.3002   0.0000   -0.4389   -0.2861\n",
      "AGEP       0.0086     0.0014    6.2559   0.0000    0.0059    0.0113\n",
      "SCHL       0.0062     0.0041    1.5172   0.1292   -0.0018    0.0142\n",
      "=================================================================\n",
      "\n"
     ]
    }
   ],
   "source": [
    "logit_model=sm.Logit(y,X)\n",
    "result=logit_model.fit()\n",
    "print(result.summary2())"
   ]
  },
  {
   "cell_type": "markdown",
   "metadata": {},
   "source": [
    "## Laplace Noise"
   ]
  },
  {
   "cell_type": "code",
   "execution_count": 8,
   "metadata": {},
   "outputs": [],
   "source": [
    "def laplace_mech(mu: Union[float, np.ndarray], epsilon: int, sensitivity: float = 1.0):\n",
    "    \"\"\"\n",
    "    Implementation of the Laplace Mechanism\n",
    "\n",
    "    Args:\n",
    "      mu (float or numpy array): the true answer\n",
    "      epsilon (int): the privacy budget\n",
    "      sensitivity (float): the global sensitivity of the query\n",
    "    \"\"\"\n",
    "    eps = epsilon/float(sensitivity)\n",
    "    scale = 1/eps\n",
    "    np_shape = np.shape(mu)\n",
    "    shape = None if np_shape == () else np_shape\n",
    "    z = np.random.laplace(0.0, scale=scale, size=shape)\n",
    "    return mu + z"
   ]
  },
  {
   "cell_type": "code",
   "execution_count": 12,
   "metadata": {},
   "outputs": [],
   "source": [
    "def avg_l1_laplace(epsilon, mu, n=1000):\n",
    "    \"\"\"Takes the average error of the laplace mechanism on an array over n samples.\n",
    "  　\n",
    "    Args:\n",
    "      epsilon (int): the privacy budget\n",
    "      mu (float or numpy array): the true answer\n",
    "      n (int): number of samples\n",
    "    \"\"\"\n",
    "    total = 0\n",
    "    for i in range(n):\n",
    "        noisy_arr = laplace_mech(mu, epsilon, sensitivity=1.0)\n",
    "        accuracy = 1 - (np.linalg.norm(noisy_arr-mu, 1)/(2*noisy_arr.shape[1]))\n",
    "        total += accuracy\n",
    "    return total/n\n"
   ]
  },
  {
   "cell_type": "code",
   "execution_count": 13,
   "metadata": {},
   "outputs": [
    {
     "data": {
      "image/png": "[encoded data removed]",
      "text/plain": [
       "<Figure size 460.8x316.8 with 1 Axes>"
      ]
     },
     "metadata": {},
     "output_type": "display_data"
    }
   ],
   "source": [
    "orig_arr = pd.DataFrame(new_pa.fillna(0))\n",
    "accuracy_df = pd.DataFrame()\n",
    "eps_range = np.arange(1,6.0,1)\n",
    "accuracy_df['Privacy Loss (ϵ)'] = eps_range\n",
    "accuracy_df['Accuracy'] = [avg_l1_laplace(x, orig_arr) for x in eps_range]\n",
    "accuracy_df.plot.scatter('Privacy Loss (ϵ)', 'Accuracy')\n",
    "plt.title('Trade-Off Between Privacy Loss and Accuracy')\n",
    "plt.style.use('seaborn-paper')\n",
    "plt.savefig('out/fig.png',facecolor='w', edgecolor='w',\n",
    "        orientation='portrait', ransparent=False, bbox_inches=None, pad_inches=0.1)\n",
    "plt.show()"
   ]
  },
  {
   "cell_type": "code",
   "execution_count": 11,
   "metadata": {},
   "outputs": [
    {
     "name": "stdout",
     "output_type": "stream",
     "text": [
      "Optimization terminated successfully.\n",
      "         Current function value: 0.684137\n",
      "         Iterations 5\n",
      "                         Results: Logit\n",
      "=================================================================\n",
      "Model:              Logit            Pseudo R-squared: 0.013     \n",
      "Dependent Variable: PINCP            AIC:              12078.2729\n",
      "Date:               2019-08-06 13:43 BIC:              12099.5283\n",
      "No. Observations:   8823             Log-Likelihood:   -6036.1   \n",
      "Df Model:           2                LL-Null:          -6115.5   \n",
      "Df Residuals:       8820             LLR p-value:      3.3688e-35\n",
      "Converged:          1.0000           Scale:            1.0000    \n",
      "No. Iterations:     5.0000                                       \n",
      "-------------------------------------------------------------------\n",
      "           Coef.    Std.Err.      z      P>|z|     [0.025    0.975]\n",
      "-------------------------------------------------------------------\n",
      "RAC1P     -0.2252     0.0240   -9.3906   0.0000   -0.2723   -0.1782\n",
      "AGEP       0.0081     0.0014    5.9043   0.0000    0.0054    0.0107\n",
      "SCHL      -0.0005     0.0038   -0.1269   0.8990   -0.0079    0.0070\n",
      "=================================================================\n",
      "\n"
     ]
    }
   ],
   "source": [
    "noisy_microdata = laplace_mech(orig_arr,3)\n",
    "X = noisy_microdata[['RAC1P','AGEP','SCHL']]\n",
    "y = noisy_microdata['PINCP'].apply(labeler)\n",
    "logit_model=sm.Logit(y,X)\n",
    "result=logit_model.fit()\n",
    "print(result.summary2())"
   ]
  },
  {
   "cell_type": "markdown",
   "metadata": {},
   "source": [
    "## Random Response "
   ]
  },
  {
   "cell_type": "code",
   "execution_count": null,
   "metadata": {
    "collapsed": true
   },
   "outputs": [],
   "source": []
  }
 ],
 "metadata": {
  "kernelspec": {
   "display_name": "Python 3",
   "language": "python",
   "name": "python3"
  },
  "language_info": {
   "codemirror_mode": {
    "name": "ipython",
    "version": 3
   },
   "file_extension": ".py",
   "mimetype": "text/x-python",
   "name": "python",
   "nbconvert_exporter": "python",
   "pygments_lexer": "ipython3",
   "version": "3.6.3"
  }
 },
 "nbformat": 4,
 "nbformat_minor": 2
}
