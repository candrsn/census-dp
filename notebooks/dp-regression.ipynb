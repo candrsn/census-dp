{
 "cells": [
  {
   "cell_type": "markdown",
   "metadata": {},
   "source": [
    "### Privacy preserving logistic regression\n",
    "#### Unweighted, discrete"
   ]
  },
  {
   "cell_type": "markdown",
   "metadata": {
    "collapsed": true
   },
   "source": [
    "There are three main methods to compute a differentially private, unweighted, discrete logistic regression.\n",
    "1. reframe discrete predictors as a table of values, add laplace noise\n",
    "2. randomized response\n",
    "3. perturbed optimization\n",
    "\n",
    "In this notebook, we will explore each method and evaluate their privacy/accuracy tradeoff performance."
   ]
  },
  {
   "cell_type": "code",
   "execution_count": 34,
   "metadata": {},
   "outputs": [],
   "source": [
    "import matplotlib.pyplot as plt\n",
    "import pandas as pd\n",
    "import numpy as np\n",
    "import requests, zipfile, io\n",
    "import sklearn\n",
    "import random\n",
    "from typing import Union\n",
    "import statsmodels.api as sm"
   ]
  },
  {
   "cell_type": "markdown",
   "metadata": {},
   "source": [
    "## Logistic Regression as Post-Processing"
   ]
  },
  {
   "cell_type": "code",
   "execution_count": 35,
   "metadata": {},
   "outputs": [],
   "source": [
    "if 'pa' not in locals():\n",
    "    r = requests.get('https://www2.census.gov/programs-surveys/acs/data/pums/2017/5-Year/csv_pla.zip')\n",
    "    z = zipfile.ZipFile(io.BytesIO(r.content))\n",
    "    z.extract('psam_p22.csv')\n",
    "    keepcols = ['PUMA','RACWHT','PINCP','AGEP','SCHL','MIGPUMA','MIGSP']\n",
    "    pa = pd.read_csv(\"psam_p42.csv\", usecols=keepcols)"
   ]
  },
  {
   "cell_type": "code",
   "execution_count": 36,
   "metadata": {},
   "outputs": [
    {
     "data": {
      "text/html": [
       "<div>\n",
       "<style scoped>\n",
       "    .dataframe tbody tr th:only-of-type {\n",
       "        vertical-align: middle;\n",
       "    }\n",
       "\n",
       "    .dataframe tbody tr th {\n",
       "        vertical-align: top;\n",
       "    }\n",
       "\n",
       "    .dataframe thead th {\n",
       "        text-align: right;\n",
       "    }\n",
       "</style>\n",
       "<table border=\"1\" class=\"dataframe\">\n",
       "  <thead>\n",
       "    <tr style=\"text-align: right;\">\n",
       "      <th></th>\n",
       "      <th>PUMA</th>\n",
       "      <th>AGEP</th>\n",
       "      <th>SCHL</th>\n",
       "      <th>MIGPUMA</th>\n",
       "      <th>MIGSP</th>\n",
       "      <th>PINCP</th>\n",
       "      <th>RACWHT</th>\n",
       "      <th>MIGRATED</th>\n",
       "      <th>ADULT</th>\n",
       "    </tr>\n",
       "  </thead>\n",
       "  <tbody>\n",
       "    <tr>\n",
       "      <th>436</th>\n",
       "      <td>1300</td>\n",
       "      <td>56</td>\n",
       "      <td>22.0</td>\n",
       "      <td>NaN</td>\n",
       "      <td>NaN</td>\n",
       "      <td>65000.0</td>\n",
       "      <td>1</td>\n",
       "      <td>0</td>\n",
       "      <td>1</td>\n",
       "    </tr>\n",
       "    <tr>\n",
       "      <th>437</th>\n",
       "      <td>1300</td>\n",
       "      <td>54</td>\n",
       "      <td>20.0</td>\n",
       "      <td>NaN</td>\n",
       "      <td>NaN</td>\n",
       "      <td>15000.0</td>\n",
       "      <td>1</td>\n",
       "      <td>0</td>\n",
       "      <td>1</td>\n",
       "    </tr>\n",
       "    <tr>\n",
       "      <th>590</th>\n",
       "      <td>1300</td>\n",
       "      <td>57</td>\n",
       "      <td>16.0</td>\n",
       "      <td>NaN</td>\n",
       "      <td>NaN</td>\n",
       "      <td>62000.0</td>\n",
       "      <td>1</td>\n",
       "      <td>0</td>\n",
       "      <td>1</td>\n",
       "    </tr>\n",
       "    <tr>\n",
       "      <th>591</th>\n",
       "      <td>1300</td>\n",
       "      <td>58</td>\n",
       "      <td>16.0</td>\n",
       "      <td>NaN</td>\n",
       "      <td>NaN</td>\n",
       "      <td>44500.0</td>\n",
       "      <td>1</td>\n",
       "      <td>0</td>\n",
       "      <td>1</td>\n",
       "    </tr>\n",
       "    <tr>\n",
       "      <th>652</th>\n",
       "      <td>1300</td>\n",
       "      <td>46</td>\n",
       "      <td>15.0</td>\n",
       "      <td>NaN</td>\n",
       "      <td>NaN</td>\n",
       "      <td>20000.0</td>\n",
       "      <td>1</td>\n",
       "      <td>0</td>\n",
       "      <td>1</td>\n",
       "    </tr>\n",
       "  </tbody>\n",
       "</table>\n",
       "</div>"
      ],
      "text/plain": [
       "     PUMA  AGEP  SCHL  MIGPUMA  MIGSP    PINCP  RACWHT  MIGRATED  ADULT\n",
       "436  1300    56  22.0      NaN    NaN  65000.0       1         0      1\n",
       "437  1300    54  20.0      NaN    NaN  15000.0       1         0      1\n",
       "590  1300    57  16.0      NaN    NaN  62000.0       1         0      1\n",
       "591  1300    58  16.0      NaN    NaN  44500.0       1         0      1\n",
       "652  1300    46  15.0      NaN    NaN  20000.0       1         0      1"
      ]
     },
     "execution_count": 36,
     "metadata": {},
     "output_type": "execute_result"
    }
   ],
   "source": [
    "#getting data\n",
    "#new_pa = pa.query('PUMA==1300 and AGEP>=18 and AGEP<=65').filter(items=['PUMA','RAC1P','PINCP','AGEP','SCHL','MIGPUMA','MIGSP'])\n",
    "pa.query('PUMA==1300 and AGEP>=18 and AGEP<=65', inplace=True)\n",
    "pa.head()\n",
    "#TODO clean data"
   ]
  },
  {
   "cell_type": "code",
   "execution_count": 37,
   "metadata": {},
   "outputs": [
    {
     "name": "stdout",
     "output_type": "stream",
     "text": [
      "     PUMA  AGEP  SCHL  MIGPUMA  MIGSP    PINCP  RACWHT  MIGRATED  ADULT\n",
      "436  1300    56  22.0      NaN    NaN  65000.0       1         0      1\n",
      "437  1300    54  20.0      NaN    NaN  15000.0       1         0      1\n",
      "590  1300    57  16.0      NaN    NaN  62000.0       1         0      1\n",
      "591  1300    58  16.0      NaN    NaN  44500.0       1         0      1\n",
      "652  1300    46  15.0      NaN    NaN  20000.0       1         0      1\n",
      "0    7926\n",
      "1     897\n",
      "Name: MIGRATED, dtype: int64\n"
     ]
    }
   ],
   "source": [
    "def migrecode(migpuma):\n",
    "    if pd.isnull(migpuma):\n",
    "        return 0\n",
    "    else:\n",
    "        return 1\n",
    "    \n",
    "def agerecode(age):\n",
    "    if age < 18:\n",
    "        return 0\n",
    "    else:\n",
    "        return 1\n",
    "    \n",
    "\n",
    "pa['MIGRATED']=pa.MIGPUMA.apply(migrecode)\n",
    "pa['ADULT']=pa.AGEP.apply(agerecode)\n",
    "print(pa.head())\n",
    "print(pa.MIGRATED.value_counts())"
   ]
  },
  {
   "cell_type": "code",
   "execution_count": 38,
   "metadata": {},
   "outputs": [
    {
     "name": "stdout",
     "output_type": "stream",
     "text": [
      "Optimization terminated successfully.\n",
      "         Current function value: 0.325422\n",
      "         Iterations 6\n",
      "                         Results: Logit\n",
      "=================================================================\n",
      "Model:              Logit            Pseudo R-squared: 0.010     \n",
      "Dependent Variable: MIGRATED         AIC:              5748.4018 \n",
      "Date:               2019-08-14 18:05 BIC:              5769.6572 \n",
      "No. Observations:   8823             Log-Likelihood:   -2871.2   \n",
      "Df Model:           2                LL-Null:          -2900.4   \n",
      "Df Residuals:       8820             LLR p-value:      2.1461e-13\n",
      "Converged:          1.0000           Scale:            1.0000    \n",
      "No. Iterations:     6.0000                                       \n",
      "-------------------------------------------------------------------\n",
      "           Coef.    Std.Err.      z      P>|z|     [0.025    0.975]\n",
      "-------------------------------------------------------------------\n",
      "RACWHT    -1.1194     0.1387   -8.0717   0.0000   -1.3912   -0.8476\n",
      "ADULT     -0.8946     0.2262   -3.9548   0.0001   -1.3380   -0.4513\n",
      "SCHL      -0.0129     0.0116   -1.1089   0.2675   -0.0356    0.0099\n",
      "=================================================================\n",
      "\n"
     ]
    }
   ],
   "source": [
    "#feature selection \n",
    "#TODO: change Y value to rent or mortage\n",
    "X = pa[['RACWHT','ADULT','SCHL']]\n",
    "y = pa.MIGRATED\n",
    "\n",
    "logit_model=sm.Logit(y,X)\n",
    "result=logit_model.fit()\n",
    "print(result.summary2())"
   ]
  },
  {
   "cell_type": "code",
   "execution_count": 63,
   "metadata": {},
   "outputs": [
    {
     "name": "stdout",
     "output_type": "stream",
     "text": [
      "RACWHT  ADULT  SCHL  MIGRATED\n",
      "0       1      1.0   0             12\n",
      "                     1              1\n",
      "               7.0   0              1\n",
      "                     1              0\n",
      "               9.0   0              1\n",
      "                     1              1\n",
      "               11.0  0              2\n",
      "                     1              1\n",
      "               12.0  0              4\n",
      "                     1              3\n",
      "               13.0  0             10\n",
      "                     1              9\n",
      "               14.0  0             21\n",
      "                     1              3\n",
      "               15.0  0             13\n",
      "                     1              2\n",
      "               16.0  0             51\n",
      "                     1             18\n",
      "               17.0  0             51\n",
      "                     1             18\n",
      "               18.0  0             17\n",
      "                     1              9\n",
      "               19.0  0             21\n",
      "                     1              8\n",
      "               20.0  0              4\n",
      "                     1              2\n",
      "               21.0  0             10\n",
      "                     1              1\n",
      "               22.0  0              9\n",
      "                     1              0\n",
      "                                 ... \n",
      "1       1      10.0  0              6\n",
      "                     1              3\n",
      "               11.0  0            143\n",
      "                     1             16\n",
      "               12.0  0             93\n",
      "                     1             10\n",
      "               13.0  0            127\n",
      "                     1             22\n",
      "               14.0  0            161\n",
      "                     1             20\n",
      "               15.0  0            106\n",
      "                     1             10\n",
      "               16.0  0           3301\n",
      "                     1            280\n",
      "               17.0  0            377\n",
      "                     1             49\n",
      "               18.0  0            403\n",
      "                     1             80\n",
      "               19.0  0            785\n",
      "                     1            128\n",
      "               20.0  0            787\n",
      "                     1             71\n",
      "               21.0  0            933\n",
      "                     1             85\n",
      "               22.0  0            333\n",
      "                     1             30\n",
      "               23.0  0             44\n",
      "                     1              3\n",
      "               24.0  0             44\n",
      "                     1              2\n",
      "Length: 74, dtype: int64\n"
     ]
    }
   ],
   "source": [
    "tab=pd.crosstab(pa.MIGRATED, [pa.RACWHT, pa.ADULT, pa.SCHL]).unstack()\n",
    "print(tab)"
   ]
  },
  {
   "cell_type": "markdown",
   "metadata": {},
   "source": [
    "## Laplace Noise"
   ]
  },
  {
   "cell_type": "code",
   "execution_count": 13,
   "metadata": {},
   "outputs": [],
   "source": [
    "def laplace_mech(mu: Union[float, np.ndarray], epsilon: int, sensitivity: float = 1.0):\n",
    "    \"\"\"\n",
    "    Implementation of the Laplace Mechanism\n",
    "\n",
    "    Args:\n",
    "      mu (float or numpy array): the true answer\n",
    "      epsilon (int): the privacy budget\n",
    "      sensitivity (float): the global sensitivity of the query\n",
    "    \"\"\"\n",
    "    eps = epsilon/float(sensitivity)\n",
    "    scale = 1/eps\n",
    "    np_shape = np.shape(mu)\n",
    "    shape = None if np_shape == () else np_shape\n",
    "    z = np.random.laplace(0.0, scale=scale, size=shape)\n",
    "    return mu + z"
   ]
  },
  {
   "cell_type": "code",
   "execution_count": 14,
   "metadata": {},
   "outputs": [],
   "source": [
    "def avg_l1_laplace(epsilon, mu, n=1000):\n",
    "    \"\"\"Takes the average error of the laplace mechanism on an array over n samples.\n",
    "  　\n",
    "    Args:\n",
    "      epsilon (int): the privacy budget\n",
    "      mu (float or numpy array): the true answer\n",
    "      n (int): number of samples\n",
    "    \"\"\"\n",
    "    total = 0\n",
    "    for i in range(n):\n",
    "        noisy_arr = laplace_mech(mu, epsilon, sensitivity=1.0)\n",
    "        accuracy = 1 - (np.linalg.norm(noisy_arr-mu, 1)/(2*noisy_arr.shape[1]))\n",
    "        total += accuracy\n",
    "    return total/n\n"
   ]
  },
  {
   "cell_type": "code",
   "execution_count": 15,
   "metadata": {},
   "outputs": [
    {
     "data": {
      "image/png": "[encoded data removed]",
      "text/plain": [
       "<Figure size 432x288 with 1 Axes>"
      ]
     },
     "metadata": {
      "needs_background": "light"
     },
     "output_type": "display_data"
    }
   ],
   "source": [
    "orig_arr = pd.DataFrame(new_pa.fillna(0))\n",
    "accuracy_df = pd.DataFrame()\n",
    "eps_range = np.arange(1,6.0,1)\n",
    "accuracy_df['Privacy Loss (ϵ)'] = eps_range\n",
    "accuracy_df['Accuracy'] = [avg_l1_laplace(x, orig_arr) for x in eps_range]\n",
    "accuracy_df.plot.scatter('Privacy Loss (ϵ)', 'Accuracy')\n",
    "plt.title('Trade-Off Between Privacy Loss and Accuracy')\n",
    "plt.style.use('seaborn-paper')\n",
    "plt.savefig('out/fig.png',facecolor='w', edgecolor='w',\n",
    "        orientation='portrait', ransparent=False, bbox_inches=None, pad_inches=0.1)\n",
    "plt.show()"
   ]
  },
  {
   "cell_type": "code",
   "execution_count": 16,
   "metadata": {},
   "outputs": [
    {
     "name": "stdout",
     "output_type": "stream",
     "text": [
      "Optimization terminated successfully.\n",
      "         Current function value: 0.683032\n",
      "         Iterations 5\n",
      "                         Results: Logit\n",
      "=================================================================\n",
      "Model:              Logit            Pseudo R-squared: 0.015     \n",
      "Dependent Variable: PINCP            AIC:              12058.7793\n",
      "Date:               2019-08-13 18:29 BIC:              12080.0346\n",
      "No. Observations:   8823             Log-Likelihood:   -6026.4   \n",
      "Df Model:           2                LL-Null:          -6115.5   \n",
      "Df Residuals:       8820             LLR p-value:      1.9303e-39\n",
      "Converged:          1.0000           Scale:            1.0000    \n",
      "No. Iterations:     5.0000                                       \n",
      "-------------------------------------------------------------------\n",
      "          Coef.    Std.Err.      z       P>|z|     [0.025    0.975]\n",
      "-------------------------------------------------------------------\n",
      "RAC1P    -0.2488     0.0248   -10.0326   0.0000   -0.2975   -0.2002\n",
      "AGEP      0.0081     0.0014     5.9446   0.0000    0.0054    0.0108\n",
      "SCHL      0.0008     0.0038     0.2028   0.8393   -0.0067    0.0082\n",
      "=================================================================\n",
      "\n"
     ]
    }
   ],
   "source": [
    "noisy_microdata = laplace_mech(orig_arr,3)\n",
    "X = noisy_microdata[['RAC1P','AGEP','SCHL']]\n",
    "y = noisy_microdata['PINCP'].apply(labeler)\n",
    "logit_model=sm.Logit(y,X)\n",
    "result=logit_model.fit()\n",
    "print(result.summary2())"
   ]
  },
  {
   "cell_type": "markdown",
   "metadata": {},
   "source": [
    "## Random Response "
   ]
  },
  {
   "cell_type": "code",
   "execution_count": 18,
   "metadata": {},
   "outputs": [
    {
     "name": "stdout",
     "output_type": "stream",
     "text": [
      "               PUMA     RAC1P          PINCP       AGEP       SCHL\n",
      "436     1300.247781  0.852751   64999.980471  55.882872  21.963363\n",
      "437     1299.438755  1.147954   14999.979268  53.537880  19.375723\n",
      "590     1298.896883  0.835699   62000.140623  56.683960  14.908162\n",
      "591     1300.081673  1.082736   44499.873305  58.207240  16.093071\n",
      "652     1300.541077  1.672024   19999.471167  45.607088  14.876569\n",
      "696     1300.006355  0.796937   12699.135954  57.862641  15.194693\n",
      "1141    1298.706597  1.105754   59999.280899  44.179970  16.028446\n",
      "1142    1299.330959  1.099140   44000.081136  41.605838  18.027975\n",
      "1337    1299.925226  1.174527   34999.875968  46.040513  15.515920\n",
      "1372    1300.064246  1.037863   22999.745139  41.794241  16.889729\n",
      "1373    1299.271035  1.113471   13999.946911  19.552497  16.196711\n",
      "1374    1300.381573  0.773457   29999.130792  42.654994  13.264253\n",
      "1513    1300.039252  1.527336   35004.283673  64.954033  21.678232\n",
      "1514    1300.299712  0.969656   21999.974062  58.817677  15.858953\n",
      "1868    1300.106031  1.056735   12699.951023  46.658622  15.791413\n",
      "1869    1299.808063  0.530258   13199.823486  58.110362  21.246140\n",
      "1977    1299.897978  1.327875   19699.891962  58.042111  19.602037\n",
      "2406    1299.834497  0.598825   27001.027508  33.992764  19.163033\n",
      "2407    1300.089228  0.591640   57750.079538  36.127234  17.246883\n",
      "2649    1300.060707  0.487639   44999.843386  53.333911  16.336929\n",
      "2773    1300.063016  2.022732      -0.961029  22.013648  13.131375\n",
      "2800    1299.672869  8.157335    8400.008594  30.481431  15.877787\n",
      "3246    1300.071133  0.934984   49999.967106  39.031476  20.682800\n",
      "3247    1300.128624  0.721864   54999.537893  42.269870  20.179624\n",
      "3250    1299.361683  1.023595    7100.090574  21.277184  19.096678\n",
      "3256    1299.971764  1.145132   26700.839328  61.517078  15.398203\n",
      "3257    1300.111942  0.896245   17998.938724  60.909385  16.658028\n",
      "3258    1300.451255  0.907729      -0.510971  39.291477  15.794123\n",
      "3280    1300.025969  0.998299   18999.853175  30.024086  19.529977\n",
      "3329    1299.965191  2.179695      -0.287193  21.587239  14.056346\n",
      "...             ...       ...            ...        ...        ...\n",
      "636147  1299.554295  1.022873   29999.558337  33.338420  17.237402\n",
      "636156  1300.112495  2.217959       0.394765  34.338638  16.928969\n",
      "636185  1299.519125  1.618331     600.063167  21.150694  19.026062\n",
      "636197  1300.227510  1.585894    8800.149381  64.090493   0.774335\n",
      "636337  1300.015366  1.493539      -0.148888  56.738125  18.135080\n",
      "636430  1299.605893  0.969775   14099.392029  62.932806   1.716805\n",
      "636483  1299.464354  2.275354    4299.221570  39.583463  19.523743\n",
      "636515  1300.445321  0.936447  501500.544227  61.618553  12.947922\n",
      "636736  1300.174690  1.007243    3000.206273  17.868850  16.335953\n",
      "636992  1299.939798  2.292358     699.917794  22.398505  16.290674\n",
      "637120  1300.073651  8.648303       0.503872  23.723080  15.921026\n",
      "637135  1299.950619  0.849926    3499.219498  19.432749  17.826699\n",
      "637164  1300.264476  1.027732     599.361547  18.465944  19.087607\n",
      "637168  1299.942657  2.852134      -0.039293  30.074621  16.053839\n",
      "637236  1300.109085  1.233603   12399.785133  61.533182  19.109459\n",
      "637251  1299.541447  1.362544     599.944824  48.010498  15.886146\n",
      "637351  1299.448143  1.714716      -0.489365  23.158989  19.013626\n",
      "637518  1300.591964  7.776572      -0.128280  23.973505   8.520052\n",
      "637606  1300.112354  2.230264    3601.426986  18.840423  15.927969\n",
      "637936  1300.149617  2.380329  501500.190312  60.286347  13.076016\n",
      "637962  1299.379944  1.005417    4000.461231  20.222715  15.715786\n",
      "638046  1300.444134  2.963796      -0.355979  52.100409  17.129434\n",
      "638231  1299.223169  1.237637    1699.682752  33.653148  16.896501\n",
      "638555  1300.769774  1.487456       0.098475  35.409358  17.686963\n",
      "638559  1300.313024  0.924957   60000.407071  65.260822   8.967008\n",
      "638614  1299.450205  1.656458    3000.203400  18.065215  16.156184\n",
      "638687  1300.419570  0.940573       0.127283  28.011125  15.107008\n",
      "638721  1299.974477  1.426610    6800.117694  56.872794  17.386932\n",
      "638870  1299.985602  0.880859    3499.790311  18.818159  17.969116\n",
      "638931  1298.752019  0.998341     210.134038  18.730885  16.198893\n",
      "\n",
      "[8823 rows x 5 columns]\n"
     ]
    }
   ],
   "source": [
    "print(noisy_microdata)"
   ]
  },
  {
   "cell_type": "code",
   "execution_count": null,
   "metadata": {},
   "outputs": [],
   "source": []
  }
 ],
 "metadata": {
  "kernelspec": {
   "display_name": "Python 3",
   "language": "python",
   "name": "python3"
  },
  "language_info": {
   "codemirror_mode": {
    "name": "ipython",
    "version": 3
   },
   "file_extension": ".py",
   "mimetype": "text/x-python",
   "name": "python",
   "nbconvert_exporter": "python",
   "pygments_lexer": "ipython3",
   "version": "3.7.3"
  }
 },
 "nbformat": 4,
 "nbformat_minor": 2
}
