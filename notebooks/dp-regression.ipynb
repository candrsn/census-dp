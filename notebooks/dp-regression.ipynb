{
 "cells": [
  {
   "cell_type": "markdown",
   "metadata": {},
   "source": [
    "### Privacy preserving logistic regression\n",
    "#### Unweighted, discrete"
   ]
  },
  {
   "cell_type": "markdown",
   "metadata": {
    "collapsed": true
   },
   "source": [
    "In this notebook we give examples of performing more complicated analyses, such as regression, as [post-processing] on data which has already had noise infused.\n",
    "\n",
    "Several common formally private noise injection methods depend upon the concept of global sensitivity: how much can a given output change due to adding or deleting a single person across all possible datasets we could observe.\n",
    "\n",
    "Regression poses a problem for these methods. If we consider a simple ordinary least squares model with a single predictor, we can imagine scenarios where adding or deleting a single person can have a marked effect upon the slope of the regression line:\n",
    "[Illustration here]"
   ]
  },
  {
   "cell_type": "code",
   "execution_count": null,
   "metadata": {},
   "outputs": [],
   "source": [
    "import matplotlib.pyplot as plt\n",
    "import pandas as pd\n",
    "import numpy as np\n",
    "import requests, zipfile, io\n",
    "import sklearn\n",
    "import random\n",
    "from typing import Union\n",
    "import statsmodels.api as sm"
   ]
  },
  {
   "cell_type": "markdown",
   "metadata": {},
   "source": [
    "## Logistic Regression as Post-Processing"
   ]
  },
  {
   "cell_type": "code",
   "execution_count": 3,
   "metadata": {},
   "outputs": [],
   "source": [
    "if 'z' not in locals():\n",
    "    r = requests.get('https://www2.census.gov/programs-surveys/acs/data/pums/2017/5-Year/csv_pla.zip')\n",
    "    z = zipfile.ZipFile(io.BytesIO(r.content))\n",
    "    z.extract('psam_p22.csv')\n",
    "\n",
    "keepcols = ['PUMA','RACWHT','PINCP','AGEP','SCHL','MIGPUMA','MIGSP']\n",
    "pa = pd.read_csv(\"psam_p22.csv\", usecols=keepcols)"
   ]
  },
  {
   "cell_type": "code",
   "execution_count": 4,
   "metadata": {},
   "outputs": [
    {
     "data": {
      "text/html": [
       "<div>\n",
       "<style scoped>\n",
       "    .dataframe tbody tr th:only-of-type {\n",
       "        vertical-align: middle;\n",
       "    }\n",
       "\n",
       "    .dataframe tbody tr th {\n",
       "        vertical-align: top;\n",
       "    }\n",
       "\n",
       "    .dataframe thead th {\n",
       "        text-align: right;\n",
       "    }\n",
       "</style>\n",
       "<table border=\"1\" class=\"dataframe\">\n",
       "  <thead>\n",
       "    <tr style=\"text-align: right;\">\n",
       "      <th></th>\n",
       "      <th>PUMA</th>\n",
       "      <th>AGEP</th>\n",
       "      <th>SCHL</th>\n",
       "      <th>MIGPUMA</th>\n",
       "      <th>MIGSP</th>\n",
       "      <th>PINCP</th>\n",
       "      <th>RACWHT</th>\n",
       "    </tr>\n",
       "  </thead>\n",
       "  <tbody>\n",
       "    <tr>\n",
       "      <th>207</th>\n",
       "      <td>2400</td>\n",
       "      <td>30</td>\n",
       "      <td>18.0</td>\n",
       "      <td>2390.0</td>\n",
       "      <td>22.0</td>\n",
       "      <td>35000.0</td>\n",
       "      <td>0</td>\n",
       "    </tr>\n",
       "    <tr>\n",
       "      <th>275</th>\n",
       "      <td>2400</td>\n",
       "      <td>56</td>\n",
       "      <td>22.0</td>\n",
       "      <td>NaN</td>\n",
       "      <td>NaN</td>\n",
       "      <td>68000.0</td>\n",
       "      <td>0</td>\n",
       "    </tr>\n",
       "    <tr>\n",
       "      <th>276</th>\n",
       "      <td>2400</td>\n",
       "      <td>57</td>\n",
       "      <td>20.0</td>\n",
       "      <td>NaN</td>\n",
       "      <td>NaN</td>\n",
       "      <td>58700.0</td>\n",
       "      <td>0</td>\n",
       "    </tr>\n",
       "    <tr>\n",
       "      <th>382</th>\n",
       "      <td>2400</td>\n",
       "      <td>26</td>\n",
       "      <td>12.0</td>\n",
       "      <td>NaN</td>\n",
       "      <td>NaN</td>\n",
       "      <td>18000.0</td>\n",
       "      <td>1</td>\n",
       "    </tr>\n",
       "    <tr>\n",
       "      <th>383</th>\n",
       "      <td>2400</td>\n",
       "      <td>31</td>\n",
       "      <td>11.0</td>\n",
       "      <td>3700.0</td>\n",
       "      <td>6.0</td>\n",
       "      <td>0.0</td>\n",
       "      <td>1</td>\n",
       "    </tr>\n",
       "  </tbody>\n",
       "</table>\n",
       "</div>"
      ],
      "text/plain": [
       "     PUMA  AGEP  SCHL  MIGPUMA  MIGSP    PINCP  RACWHT\n",
       "207  2400    30  18.0   2390.0   22.0  35000.0       0\n",
       "275  2400    56  22.0      NaN    NaN  68000.0       0\n",
       "276  2400    57  20.0      NaN    NaN  58700.0       0\n",
       "382  2400    26  12.0      NaN    NaN  18000.0       1\n",
       "383  2400    31  11.0   3700.0    6.0      0.0       1"
      ]
     },
     "execution_count": 4,
     "metadata": {},
     "output_type": "execute_result"
    }
   ],
   "source": [
    "#getting data\n",
    "pa.query('PUMA==2400 and AGEP>=18 and AGEP<=65', inplace=True)\n",
    "pa.head()\n",
    "#TODO clean data"
   ]
  },
  {
   "cell_type": "code",
   "execution_count": 21,
   "metadata": {},
   "outputs": [
    {
     "name": "stdout",
     "output_type": "stream",
     "text": [
      "     PUMA  AGEP  SCHL  MIGPUMA  MIGSP    PINCP  RACWHT  MIGRATED  ADULT  \\\n",
      "207  2400    30  18.0   2390.0   22.0  35000.0       0         1      1   \n",
      "275  2400    56  22.0      NaN    NaN  68000.0       0         0      1   \n",
      "276  2400    57  20.0      NaN    NaN  58700.0       0         0      1   \n",
      "382  2400    26  12.0      NaN    NaN  18000.0       1         0      1   \n",
      "383  2400    31  11.0   3700.0    6.0      0.0       1         1      1   \n",
      "\n",
      "     COLLEGE  \n",
      "207        1  \n",
      "275        1  \n",
      "276        1  \n",
      "382        0  \n",
      "383        0  \n",
      "0    4775\n",
      "1     695\n",
      "Name: MIGRATED, dtype: int64\n"
     ]
    }
   ],
   "source": [
    "def migrecode(migpuma):\n",
    "    if pd.isnull(migpuma):\n",
    "        return 0\n",
    "    else:\n",
    "        return 1\n",
    "    \n",
    "def agerecode(age):\n",
    "    if age < 18:\n",
    "        return 0\n",
    "    else:\n",
    "        return 1\n",
    "\n",
    "def schlrecode(schl):\n",
    "    if schl < 18:\n",
    "        return 0\n",
    "    else:\n",
    "        return 1\n",
    "\n",
    "pa['MIGRATED']=pa.MIGPUMA.apply(migrecode)\n",
    "pa['ADULT']=pa.AGEP.apply(agerecode)\n",
    "pa['COLLEGE']=pa.SCHL.apply(schlrecode)\n",
    "print(pa.head())\n",
    "print(pa.MIGRATED.value_counts())"
   ]
  },
  {
   "cell_type": "code",
   "execution_count": 22,
   "metadata": {},
   "outputs": [
    {
     "name": "stdout",
     "output_type": "stream",
     "text": [
      "Optimization terminated successfully.\n",
      "         Current function value: 0.375800\n",
      "         Iterations 6\n",
      "                         Results: Logit\n",
      "=================================================================\n",
      "Model:              Logit            Pseudo R-squared: 0.013     \n",
      "Dependent Variable: MIGRATED         AIC:              4117.2525 \n",
      "Date:               2019-08-16 11:02 BIC:              4137.0736 \n",
      "No. Observations:   5470             Log-Likelihood:   -2055.6   \n",
      "Df Model:           2                LL-Null:          -2082.7   \n",
      "Df Residuals:       5467             LLR p-value:      1.7131e-12\n",
      "Converged:          1.0000           Scale:            1.0000    \n",
      "No. Iterations:     6.0000                                       \n",
      "------------------------------------------------------------------\n",
      "              Coef.   Std.Err.     z      P>|z|    [0.025   0.975]\n",
      "------------------------------------------------------------------\n",
      "RACWHT        0.6363    0.0867    7.3360  0.0000   0.4663   0.8063\n",
      "ADULT        -2.0941    0.0749  -27.9769  0.0000  -2.2409  -1.9474\n",
      "COLLEGE      -0.1179    0.0927   -1.2722  0.2033  -0.2995   0.0637\n",
      "=================================================================\n",
      "\n"
     ]
    }
   ],
   "source": [
    "#feature selection \n",
    "#TODO: change Y value to rent or mortage\n",
    "X = pa[['RACWHT','ADULT','COLLEGE']]\n",
    "y = pa.MIGRATED\n",
    "\n",
    "logit_model=sm.Logit(y,X)\n",
    "result=logit_model.fit()\n",
    "print(result.summary2())"
   ]
  },
  {
   "cell_type": "code",
   "execution_count": 37,
   "metadata": {},
   "outputs": [
    {
     "name": "stdout",
     "output_type": "stream",
     "text": [
      "Help on function melt in module pandas.core.reshape.melt:\n",
      "\n",
      "melt(frame, id_vars=None, value_vars=None, var_name=None, value_name='value', col_level=None)\n",
      "    Unpivots a DataFrame from wide format to long format, optionally\n",
      "    leaving identifier variables set.\n",
      "    \n",
      "    This function is useful to massage a DataFrame into a format where one\n",
      "    or more columns are identifier variables (`id_vars`), while all other\n",
      "    columns, considered measured variables (`value_vars`), are \"unpivoted\" to\n",
      "    the row axis, leaving just two non-identifier columns, 'variable' and\n",
      "    'value'.\n",
      "    \n",
      "    \n",
      "    Parameters\n",
      "    ----------\n",
      "    frame : DataFrame\n",
      "    id_vars : tuple, list, or ndarray, optional\n",
      "        Column(s) to use as identifier variables.\n",
      "    value_vars : tuple, list, or ndarray, optional\n",
      "        Column(s) to unpivot. If not specified, uses all columns that\n",
      "        are not set as `id_vars`.\n",
      "    var_name : scalar\n",
      "        Name to use for the 'variable' column. If None it uses\n",
      "        ``frame.columns.name`` or 'variable'.\n",
      "    value_name : scalar, default 'value'\n",
      "        Name to use for the 'value' column.\n",
      "    col_level : int or string, optional\n",
      "        If columns are a MultiIndex then use this level to melt.\n",
      "    \n",
      "    See Also\n",
      "    --------\n",
      "    DataFrame.melt\n",
      "    pivot_table\n",
      "    DataFrame.pivot\n",
      "    \n",
      "    Examples\n",
      "    --------\n",
      "    >>> df = pd.DataFrame({'A': {0: 'a', 1: 'b', 2: 'c'},\n",
      "    ...                    'B': {0: 1, 1: 3, 2: 5},\n",
      "    ...                    'C': {0: 2, 1: 4, 2: 6}})\n",
      "    >>> df\n",
      "       A  B  C\n",
      "    0  a  1  2\n",
      "    1  b  3  4\n",
      "    2  c  5  6\n",
      "    \n",
      "    >>> pd.melt(df, id_vars=['A'], value_vars=['B'])\n",
      "       A variable  value\n",
      "    0  a        B      1\n",
      "    1  b        B      3\n",
      "    2  c        B      5\n",
      "    \n",
      "    >>> pd.melt(df, id_vars=['A'], value_vars=['B', 'C'])\n",
      "       A variable  value\n",
      "    0  a        B      1\n",
      "    1  b        B      3\n",
      "    2  c        B      5\n",
      "    3  a        C      2\n",
      "    4  b        C      4\n",
      "    5  c        C      6\n",
      "    \n",
      "    The names of 'variable' and 'value' columns can be customized:\n",
      "    \n",
      "    >>> pd.melt(df, id_vars=['A'], value_vars=['B'],\n",
      "    ...         var_name='myVarname', value_name='myValname')\n",
      "       A myVarname  myValname\n",
      "    0  a         B          1\n",
      "    1  b         B          3\n",
      "    2  c         B          5\n",
      "    \n",
      "    If you have multi-index columns:\n",
      "    \n",
      "    >>> df.columns = [list('ABC'), list('DEF')]\n",
      "    >>> df\n",
      "       A  B  C\n",
      "       D  E  F\n",
      "    0  a  1  2\n",
      "    1  b  3  4\n",
      "    2  c  5  6\n",
      "    \n",
      "    >>> pd.melt(df, col_level=0, id_vars=['A'], value_vars=['B'])\n",
      "       A variable  value\n",
      "    0  a        B      1\n",
      "    1  b        B      3\n",
      "    2  c        B      5\n",
      "    \n",
      "    >>> pd.melt(df, id_vars=[('A', 'D')], value_vars=[('B', 'E')])\n",
      "      (A, D) variable_0 variable_1  value\n",
      "    0      a          B          E      1\n",
      "    1      b          B          E      3\n",
      "    2      c          B          E      5\n",
      "\n"
     ]
    }
   ],
   "source": []
  },
  {
   "cell_type": "markdown",
   "metadata": {},
   "source": [
    "## Laplace Noise"
   ]
  },
  {
   "cell_type": "code",
   "execution_count": 24,
   "metadata": {},
   "outputs": [],
   "source": [
    "def laplace_mech(mu: Union[float, np.ndarray], epsilon: int, sensitivity: float = 1.0):\n",
    "    \"\"\"\n",
    "    Implementation of the Laplace Mechanism\n",
    "\n",
    "    Args:\n",
    "      mu (float or numpy array): the true answer\n",
    "      epsilon (int): the privacy budget\n",
    "      sensitivity (float): the global sensitivity of the query\n",
    "    \"\"\"\n",
    "    eps = epsilon/float(sensitivity)\n",
    "    scale = 1/eps\n",
    "    np_shape = np.shape(mu)\n",
    "    shape = None if np_shape == () else np_shape\n",
    "    z = np.random.laplace(0.0, scale=scale, size=shape)\n",
    "    return mu + z"
   ]
  },
  {
   "cell_type": "code",
   "execution_count": 68,
   "metadata": {},
   "outputs": [
    {
     "name": "stdout",
     "output_type": "stream",
     "text": [
      "[(0, 1, 0, 0) (0, 1, 0, 1) (0, 1, 1, 0) (0, 1, 1, 1) (1, 1, 0, 0)\n",
      " (1, 1, 0, 1) (1, 1, 1, 0) (1, 1, 1, 1)]\n"
     ]
    }
   ],
   "source": [
    "tab=pd.crosstab(pa.MIGRATED, [pa.RACWHT, pa.ADULT, pa.COLLEGE])\n",
    "#tab=pd.crosstab(pa.MIGRATED, [pa.RACWHT, pa.ADULT, pa.COLLEGE]).unstack()\n",
    "noise = laplace_mech(np.zeros(tab.shape), 0.1, 1.0)\n",
    "noisy_tab = tab + noise\n",
    "print(tab.unstack().index.get_values())"
   ]
  },
  {
   "cell_type": "code",
   "execution_count": null,
   "metadata": {},
   "outputs": [],
   "source": [
    "def avg_l1_laplace(epsilon, mu, n=1000):\n",
    "    \"\"\"Takes the average error of the laplace mechanism on an array over n samples.\n",
    "  　\n",
    "    Args:\n",
    "      epsilon (int): the privacy budget\n",
    "      mu (float or numpy array): the true answer\n",
    "      n (int): number of samples\n",
    "    \"\"\"\n",
    "    total = 0\n",
    "    for i in range(n):\n",
    "        noisy_arr = laplace_mech(mu, epsilon, sensitivity=1.0)\n",
    "        accuracy = 1 - (np.linalg.norm(noisy_arr-mu, 1)/(2*noisy_arr.shape[1]))\n",
    "        total += accuracy\n",
    "    return total/n\n"
   ]
  },
  {
   "cell_type": "code",
   "execution_count": null,
   "metadata": {},
   "outputs": [],
   "source": [
    "orig_arr = pd.DataFrame(new_pa.fillna(0))\n",
    "accuracy_df = pd.DataFrame()\n",
    "eps_range = np.arange(1,6.0,1)\n",
    "accuracy_df['Privacy Loss (ϵ)'] = eps_range\n",
    "accuracy_df['Accuracy'] = [avg_l1_laplace(x, orig_arr) for x in eps_range]\n",
    "accuracy_df.plot.scatter('Privacy Loss (ϵ)', 'Accuracy')\n",
    "plt.title('Trade-Off Between Privacy Loss and Accuracy')\n",
    "plt.style.use('seaborn-paper')\n",
    "plt.savefig('out/fig.png',facecolor='w', edgecolor='w',\n",
    "        orientation='portrait', ransparent=False, bbox_inches=None, pad_inches=0.1)\n",
    "plt.show()"
   ]
  },
  {
   "cell_type": "code",
   "execution_count": null,
   "metadata": {},
   "outputs": [],
   "source": [
    "noisy_microdata = laplace_mech(orig_arr,3)\n",
    "X = noisy_microdata[['RAC1P','AGEP','SCHL']]\n",
    "y = noisy_microdata['PINCP'].apply(labeler)\n",
    "logit_model=sm.Logit(y,X)\n",
    "result=logit_model.fit()\n",
    "print(result.summary2())"
   ]
  },
  {
   "cell_type": "markdown",
   "metadata": {},
   "source": [
    "## Random Response "
   ]
  },
  {
   "cell_type": "code",
   "execution_count": null,
   "metadata": {},
   "outputs": [],
   "source": [
    "print(noisy_microdata)"
   ]
  },
  {
   "cell_type": "code",
   "execution_count": null,
   "metadata": {},
   "outputs": [],
   "source": []
  }
 ],
 "metadata": {
  "kernelspec": {
   "display_name": "Python 3",
   "language": "python",
   "name": "python3"
  },
  "language_info": {
   "codemirror_mode": {
    "name": "ipython",
    "version": 3
   },
   "file_extension": ".py",
   "mimetype": "text/x-python",
   "name": "python",
   "nbconvert_exporter": "python",
   "pygments_lexer": "ipython3",
   "version": "3.7.3"
  }
 },
 "nbformat": 4,
 "nbformat_minor": 2
}
