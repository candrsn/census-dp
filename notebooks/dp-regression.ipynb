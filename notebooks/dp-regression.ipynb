{
 "cells": [
  {
   "cell_type": "markdown",
   "metadata": {},
   "source": [
    "### Privacy preserving logistic regression\n",
    "#### A post-processing example"
   ]
  },
  {
   "cell_type": "markdown",
   "metadata": {
    "collapsed": true
   },
   "source": [
    "In this notebook we give examples of performing more complicated analyses, such as regression, as [post-processing] on data which has already had noise infused.\n",
    "\n",
    "Several common formally private noise injection methods depend upon the concept of global sensitivity: how much can a given output change due to adding or deleting a single person across all possible datasets we could observe.\n",
    "\n",
    "Regression poses a problem for these methods. If we consider a simple ordinary least squares model with a single predictor, we can imagine scenarios where adding or deleting a single person can have a marked effect upon the slope of the regression line:\n",
    "[Illustration here]\n"
   ]
  },
  {
   "cell_type": "code",
   "execution_count": 1,
   "metadata": {},
   "outputs": [],
   "source": [
    "import matplotlib.pyplot as plt\n",
    "import pandas as pd\n",
    "import numpy as np\n",
    "import requests, zipfile, io\n",
    "import sklearn\n",
    "import random\n",
    "from typing import Union\n",
    "import statsmodels.api as sm"
   ]
  },
  {
   "cell_type": "markdown",
   "metadata": {},
   "source": [
    "## Logistic Regression as Post-Processing"
   ]
  },
  {
   "cell_type": "code",
   "execution_count": 2,
   "metadata": {},
   "outputs": [],
   "source": [
    "if 'z' not in locals():\n",
    "    r = requests.get('https://www2.census.gov/programs-surveys/acs/data/pums/2017/5-Year/csv_pla.zip')\n",
    "    z = zipfile.ZipFile(io.BytesIO(r.content))\n",
    "    z.extract('psam_p22.csv')\n",
    "\n",
    "keepcols = ['PUMA','RACWHT','PINCP','AGEP','SCHL','MIGPUMA','MIGSP']\n",
    "pa = pd.read_csv(\"psam_p22.csv\", usecols=keepcols)"
   ]
  },
  {
   "cell_type": "code",
   "execution_count": 3,
   "metadata": {},
   "outputs": [],
   "source": [
    "#getting data\n",
    "pa.query('PUMA==2400', inplace=True)"
   ]
  },
  {
   "cell_type": "code",
   "execution_count": 4,
   "metadata": {},
   "outputs": [
    {
     "name": "stdout",
     "output_type": "stream",
     "text": [
      "     PUMA  AGEP  SCHL  MIGPUMA  MIGSP    PINCP  RACWHT  MIGRATED  ADULT  \\\n",
      "207  2400    30  18.0   2390.0   22.0  35000.0       0         1      1   \n",
      "208  2400     7   4.0      NaN    NaN      NaN       0         0      0   \n",
      "275  2400    56  22.0      NaN    NaN  68000.0       0         0      1   \n",
      "276  2400    57  20.0      NaN    NaN  58700.0       0         0      1   \n",
      "382  2400    26  12.0      NaN    NaN  18000.0       1         0      1   \n",
      "\n",
      "     COLLEGE  \n",
      "207        1  \n",
      "208        0  \n",
      "275        1  \n",
      "276        1  \n",
      "382        0  \n",
      "1    6807\n",
      "0    1801\n",
      "Name: ADULT, dtype: int64\n"
     ]
    }
   ],
   "source": [
    "def migrecode(migpuma):\n",
    "    if pd.isnull(migpuma):\n",
    "        return 0\n",
    "    else:\n",
    "        return 1\n",
    "    \n",
    "def agerecode(age):\n",
    "    if age < 18:\n",
    "        return 0\n",
    "    else:\n",
    "        return 1\n",
    "\n",
    "def schlrecode(schl):\n",
    "    if schl < 18:\n",
    "        return 0\n",
    "    else:\n",
    "        return 1\n",
    "\n",
    "pa['MIGRATED']=pa.MIGPUMA.apply(migrecode)\n",
    "pa['ADULT']=pa.AGEP.apply(agerecode)\n",
    "pa['COLLEGE']=pa.SCHL.apply(schlrecode)\n",
    "print(pa.head())\n",
    "print(pa.ADULT.value_counts())"
   ]
  },
  {
   "cell_type": "code",
   "execution_count": 5,
   "metadata": {},
   "outputs": [
    {
     "name": "stdout",
     "output_type": "stream",
     "text": [
      "Optimization terminated successfully.\n",
      "         Current function value: 0.416755\n",
      "         Iterations 6\n",
      "                         Results: Logit\n",
      "================================================================\n",
      "Model:              Logit            Pseudo R-squared: -0.194   \n",
      "Dependent Variable: MIGRATED         AIC:              7180.8469\n",
      "Date:               2019-08-16 14:40 BIC:              7202.0282\n",
      "No. Observations:   8608             Log-Likelihood:   -3587.4  \n",
      "Df Model:           2                LL-Null:          -3003.9  \n",
      "Df Residuals:       8605             LLR p-value:      1.0000   \n",
      "Converged:          1.0000           Scale:            1.0000   \n",
      "No. Iterations:     6.0000                                      \n",
      "-----------------------------------------------------------------\n",
      "             Coef.   Std.Err.     z      P>|z|    [0.025   0.975]\n",
      "-----------------------------------------------------------------\n",
      "RACWHT      -0.3559    0.0653   -5.4504  0.0000  -0.4839  -0.2279\n",
      "ADULT       -1.8148    0.0549  -33.0535  0.0000  -1.9224  -1.7072\n",
      "COLLEGE     -0.2615    0.0678   -3.8539  0.0001  -0.3945  -0.1285\n",
      "================================================================\n",
      "\n"
     ]
    }
   ],
   "source": [
    "#feature selection \n",
    "#TODO: change Y value to rent or mortage\n",
    "X = pa[['RACWHT','ADULT','COLLEGE']]\n",
    "y = pa.MIGRATED\n",
    "\n",
    "logit_model=sm.Logit(y,X)\n",
    "result=logit_model.fit()\n",
    "print(result.summary2())"
   ]
  },
  {
   "cell_type": "markdown",
   "metadata": {},
   "source": [
    "## Laplace Noise"
   ]
  },
  {
   "cell_type": "code",
   "execution_count": 6,
   "metadata": {},
   "outputs": [],
   "source": [
    "def laplace_mech(mu: Union[float, np.ndarray], epsilon: int, sensitivity: float = 1.0):\n",
    "    \"\"\"\n",
    "    Implementation of the Laplace Mechanism\n",
    "\n",
    "    Args:\n",
    "      mu (float or numpy array): the true answer\n",
    "      epsilon (int): the privacy budget\n",
    "      sensitivity (float): the global sensitivity of the query\n",
    "    \"\"\"\n",
    "    eps = epsilon/float(sensitivity)\n",
    "    scale = 1/eps\n",
    "    np_shape = np.shape(mu)\n",
    "    shape = None if np_shape == () else np_shape\n",
    "    z = np.random.laplace(0.0, scale=scale, size=shape)\n",
    "    return mu + z"
   ]
  },
  {
   "cell_type": "code",
   "execution_count": 7,
   "metadata": {},
   "outputs": [
    {
     "name": "stdout",
     "output_type": "stream",
     "text": [
      "RACWHT  ADULT  COLLEGE  MIGRATED\n",
      "0       0      0        0            984\n",
      "                        1            125\n",
      "               1        0            161\n",
      "                        1             23\n",
      "        1      0        0           1806\n",
      "                        1            193\n",
      "               1        0           2296\n",
      "                        1            220\n",
      "1       0      0        0            358\n",
      "                        1             37\n",
      "               1        0             95\n",
      "                        1             18\n",
      "        1      0        0            348\n",
      "                        1             49\n",
      "               1        0           1603\n",
      "                        1            292\n",
      "dtype: int64\n",
      "RACWHT  ADULT  COLLEGE  MIGRATED\n",
      "0       0      0        0            995.263789\n",
      "                        1            139.737473\n",
      "               1        0            188.781115\n",
      "                        1             28.333794\n",
      "        1      0        0           1814.042436\n",
      "                        1            198.820739\n",
      "               1        0           2291.162480\n",
      "                        1            218.870358\n",
      "1       0      0        0            343.362679\n",
      "                        1             42.826614\n",
      "               1        0            108.760131\n",
      "                        1             36.512093\n",
      "        1      0        0            330.623876\n",
      "                        1             36.552684\n",
      "               1        0           1602.998444\n",
      "                        1            288.916721\n",
      "dtype: float64\n"
     ]
    }
   ],
   "source": [
    "tab=pd.crosstab(pa.MIGRATED, [pa.RACWHT, pa.ADULT, pa.COLLEGE])\n",
    "#tab=pd.crosstab(pa.MIGRATED, [pa.RACWHT, pa.ADULT, pa.COLLEGE]).unstack()\n",
    "noise = laplace_mech(np.zeros(tab.shape), 0.1, 1.0)\n",
    "noisy_tab = tab + noise\n",
    "print(tab.unstack())\n",
    "print(noisy_tab.unstack())"
   ]
  },
  {
   "cell_type": "code",
   "execution_count": 8,
   "metadata": {},
   "outputs": [],
   "source": [
    "def avg_l1_laplace(epsilon, mu, sensitivity=1.0, n=1000):\n",
    "    \"\"\"Takes the average error of the laplace mechanism on an array over n samples.\n",
    "  　\n",
    "    Args:\n",
    "      epsilon (int): the privacy budget\n",
    "      mu (float or numpy array): the true answer\n",
    "      n (int): number of samples\n",
    "    \"\"\"\n",
    "    total = 0\n",
    "    for i in range(n):\n",
    "        noisy_arr = laplace_mech(mu, epsilon)\n",
    "        accuracy = 1 - (np.linalg.norm(noisy_arr-mu, 1)/(2*mu.sum()))\n",
    "        total += accuracy\n",
    "    return total/n\n"
   ]
  },
  {
   "cell_type": "code",
   "execution_count": 9,
   "metadata": {},
   "outputs": [
    {
     "data": {
      "image/png": "[encoded data removed]",
      "text/plain": [
       "<Figure size 432x288 with 1 Axes>"
      ]
     },
     "metadata": {
      "needs_background": "light"
     },
     "output_type": "display_data"
    }
   ],
   "source": [
    "orig_arr = tab.unstack().values\n",
    "accuracy_df = pd.DataFrame()\n",
    "eps_range = np.arange(0.01,0.5,0.01)\n",
    "accuracy_df['Privacy Loss (ϵ)'] = eps_range\n",
    "#print(avg_l1_laplace(1, orig_arr))\n",
    "\n",
    "accuracy_df['Accuracy'] = [avg_l1_laplace(x, orig_arr) for x in eps_range]\n",
    "accuracy_df.plot.scatter('Privacy Loss (ϵ)', 'Accuracy')\n",
    "plt.title('Trade-Off Between Privacy Loss and Accuracy')\n",
    "plt.style.use('seaborn-paper')\n",
    "plt.savefig('out/fig.png',facecolor='w', edgecolor='w',\n",
    "        orientation='portrait', ransparent=False, bbox_inches=None, pad_inches=0.1)\n",
    "plt.show()"
   ]
  },
  {
   "cell_type": "code",
   "execution_count": 10,
   "metadata": {},
   "outputs": [
    {
     "name": "stdout",
     "output_type": "stream",
     "text": [
      "1    6783\n",
      "0    1884\n",
      "Name: ADULT, dtype: int64\n"
     ]
    }
   ],
   "source": [
    "def post_process(tab_values: np.array):\n",
    "    tab_values[tab_values < 0] = 0\n",
    "    return tab_values.round().astype('int')\n",
    "\n",
    "def reconstruct(noisy_tab):\n",
    "    noisy_unstack = noisy_tab.unstack()\n",
    "    reps = post_process(noisy_unstack.values)\n",
    "    colnames = noisy_unstack.index.names\n",
    "    combinations = noisy_unstack.index.get_values()\n",
    "    combinations = np.matrix([list(tup) for tup in combinations])\n",
    "    noisy_microdata = pd.DataFrame(np.repeat(combinations, reps, axis=0),\n",
    "                                  columns=colnames)\n",
    "    return noisy_microdata\n",
    "\n",
    "noisy_microdata = reconstruct(noisy_tab)\n",
    "print(noisy_microdata.ADULT.value_counts())\n"
   ]
  },
  {
   "cell_type": "code",
   "execution_count": 11,
   "metadata": {},
   "outputs": [
    {
     "name": "stdout",
     "output_type": "stream",
     "text": [
      "Optimization terminated successfully.\n",
      "         Current function value: 0.417933\n",
      "         Iterations 6\n",
      "                         Results: Logit\n",
      "================================================================\n",
      "Model:              Logit            Pseudo R-squared: -0.175   \n",
      "Dependent Variable: MIGRATED         AIC:              7250.4586\n",
      "Date:               2019-08-16 14:40 BIC:              7271.6604\n",
      "No. Observations:   8667             Log-Likelihood:   -3622.2  \n",
      "Df Model:           2                LL-Null:          -3083.1  \n",
      "Df Residuals:       8664             LLR p-value:      1.0000   \n",
      "Converged:          1.0000           Scale:            1.0000   \n",
      "No. Iterations:     6.0000                                      \n",
      "-----------------------------------------------------------------\n",
      "             Coef.   Std.Err.     z      P>|z|    [0.025   0.975]\n",
      "-----------------------------------------------------------------\n",
      "RACWHT      -0.3236    0.0652   -4.9631  0.0000  -0.4514  -0.1958\n",
      "ADULT       -1.8294    0.0542  -33.7530  0.0000  -1.9356  -1.7231\n",
      "COLLEGE     -0.2720    0.0664   -4.0939  0.0000  -0.4022  -0.1418\n",
      "================================================================\n",
      "\n"
     ]
    }
   ],
   "source": [
    "X = noisy_microdata[['RACWHT','ADULT','COLLEGE']]\n",
    "y = noisy_microdata.MIGRATED\n",
    "\n",
    "logit_model=sm.Logit(y,X)\n",
    "result=logit_model.fit()\n",
    "print(result.summary2())"
   ]
  }
 ],
 "metadata": {
  "kernelspec": {
   "display_name": "Python 3",
   "language": "python",
   "name": "python3"
  },
  "language_info": {
   "codemirror_mode": {
    "name": "ipython",
    "version": 3
   },
   "file_extension": ".py",
   "mimetype": "text/x-python",
   "name": "python",
   "nbconvert_exporter": "python",
   "pygments_lexer": "ipython3",
   "version": "3.7.3"
  }
 },
 "nbformat": 4,
 "nbformat_minor": 2
}
